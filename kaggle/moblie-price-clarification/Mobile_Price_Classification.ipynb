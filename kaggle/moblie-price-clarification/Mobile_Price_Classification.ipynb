{
  "nbformat": 4,
  "nbformat_minor": 0,
  "metadata": {
    "colab": {
      "provenance": []
    },
    "kernelspec": {
      "name": "python3",
      "display_name": "Python 3"
    },
    "language_info": {
      "name": "python"
    }
  },
  "cells": [
    {
      "cell_type": "markdown",
      "source": [
        "# observations\n",
        "\n",
        "\n",
        "\n",
        "1. dataset - 2000 X 21\n",
        "2. no fields have null values\n",
        "\n",
        "\n",
        "\n",
        "Col wise observations\n",
        "\n",
        "\n",
        "1.   **duel_sim**\n",
        "\n",
        "\n",
        "*   Single sim - 981\n",
        "*   dual sim - 1019\n",
        "\n",
        "\n",
        "\n",
        "2.   **battery_power**\n",
        "\n",
        "\n",
        "*   Average - 1238.5185\n",
        "*   Sum - 2477037\n",
        "\n",
        "\n",
        "\n",
        "\n",
        "\n"
      ],
      "metadata": {
        "id": "14ummo0D1NPX"
      }
    },
    {
      "cell_type": "markdown",
      "source": [
        "# Code starts here"
      ],
      "metadata": {
        "id": "BBbllhmT1Kjg"
      }
    },
    {
      "cell_type": "code",
      "execution_count": 17,
      "metadata": {
        "id": "Xwp5PC9ayqdX"
      },
      "outputs": [],
      "source": [
        "import pandas as pd\n",
        "import matplotlib.pyplot as plt\n",
        "from sklearn import linear_model"
      ]
    },
    {
      "cell_type": "code",
      "source": [
        "file_path = '/content/train.csv'\n",
        "data = pd.read_csv(file_path)\n",
        "display(data.columns)"
      ],
      "metadata": {
        "colab": {
          "base_uri": "https://localhost:8080/",
          "height": 102
        },
        "id": "Tojn-wmd5c4w",
        "outputId": "c64a1052-d99f-436e-fef5-1947e739ec22"
      },
      "execution_count": 28,
      "outputs": [
        {
          "output_type": "display_data",
          "data": {
            "text/plain": [
              "Index(['battery_power', 'blue', 'clock_speed', 'dual_sim', 'fc', 'four_g',\n",
              "       'int_memory', 'm_dep', 'mobile_wt', 'n_cores', 'pc', 'px_height',\n",
              "       'px_width', 'ram', 'sc_h', 'sc_w', 'talk_time', 'three_g',\n",
              "       'touch_screen', 'wifi', 'price_range'],\n",
              "      dtype='object')"
            ]
          },
          "metadata": {}
        }
      ]
    },
    {
      "cell_type": "code",
      "source": [
        "#count nulls for given col\n",
        "def nullCounter(colName):\n",
        "  return data[colName].isnull().sum()"
      ],
      "metadata": {
        "id": "gIqnSWz00NFZ"
      },
      "execution_count": 5,
      "outputs": []
    },
    {
      "cell_type": "code",
      "source": [],
      "metadata": {
        "colab": {
          "base_uri": "https://localhost:8080/"
        },
        "collapsed": true,
        "id": "GPW9qm_w0HAB",
        "outputId": "b20dc3be-e096-46f2-9c21-652bac78ae89"
      },
      "execution_count": 16,
      "outputs": [
        {
          "output_type": "stream",
          "name": "stdout",
          "text": [
            "mean =  1238.5185\n",
            "sum =  2477037\n"
          ]
        }
      ]
    },
    {
      "cell_type": "code",
      "source": [
        "xAsixCol = 'touch_screen'\n",
        "plt.scatter(data[xAsixCol],data['price_range'])\n",
        "plt.xlabel(xAsixCol)\n",
        "plt.ylabel('price_range')\n",
        "plt.show()"
      ],
      "metadata": {
        "colab": {
          "base_uri": "https://localhost:8080/",
          "height": 450
        },
        "id": "4N7SiARy3mpC",
        "outputId": "c9a91924-8200-4f0e-cbe4-57709275a827"
      },
      "execution_count": 41,
      "outputs": [
        {
          "output_type": "display_data",
          "data": {
            "text/plain": [
              "<Figure size 640x480 with 1 Axes>"
            ],
            "image/png": "[encoded data removed]"
          },
          "metadata": {}
        }
      ]
    },
    {
      "cell_type": "code",
      "source": [
        "model = linear_model.LinearRegression()\n",
        "model.fit(data[['battery_power']],data['price_range'])"
      ],
      "metadata": {
        "id": "JWigq3-05x7Z"
      },
      "execution_count": null,
      "outputs": []
    }
  ]
}